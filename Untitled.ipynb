{
 "cells": [
  {
   "cell_type": "code",
   "execution_count": 1,
   "metadata": {
    "collapsed": true
   },
   "outputs": [],
   "source": [
    "import os\n",
    "os.chdir('C://Users/Miya/Downloads')"
   ]
  },
  {
   "cell_type": "code",
   "execution_count": 2,
   "metadata": {
    "collapsed": true
   },
   "outputs": [],
   "source": [
    "import pandas as pd\n",
    "import matplotlib.pyplot as plt\n",
    "%matplotlib inline\n",
    "\n",
    "labels = pd.read_table('label.txt',sep=' ',index_col=False,header = None, names = [\"image-name\",\"Leye-x\",\"Leye-y\",\n",
    "                                                                                   \"Reye-x\",\"Reye-y\",\"nose-x\",\"nose-y\",\"mouth-x\",\"mouth-y\"])"
   ]
  },
  {
   "cell_type": "code",
   "execution_count": 19,
   "metadata": {},
   "outputs": [
    {
     "data": {
      "text/html": [
       "<div>\n",
       "<style>\n",
       "    .dataframe thead tr:only-child th {\n",
       "        text-align: right;\n",
       "    }\n",
       "\n",
       "    .dataframe thead th {\n",
       "        text-align: left;\n",
       "    }\n",
       "\n",
       "    .dataframe tbody tr th {\n",
       "        vertical-align: top;\n",
       "    }\n",
       "</style>\n",
       "<table border=\"1\" class=\"dataframe\">\n",
       "  <thead>\n",
       "    <tr style=\"text-align: right;\">\n",
       "      <th></th>\n",
       "      <th>image-name</th>\n",
       "      <th>Leye-x</th>\n",
       "      <th>Leye-y</th>\n",
       "      <th>Reye-x</th>\n",
       "      <th>Reye-y</th>\n",
       "      <th>nose-x</th>\n",
       "      <th>nose-y</th>\n",
       "      <th>mouth-x</th>\n",
       "      <th>mouth-y</th>\n",
       "    </tr>\n",
       "  </thead>\n",
       "  <tbody>\n",
       "    <tr>\n",
       "      <th>0</th>\n",
       "      <td>pic00001.jpg</td>\n",
       "      <td>237.85950</td>\n",
       "      <td>200.99140</td>\n",
       "      <td>273.1565</td>\n",
       "      <td>205.30550</td>\n",
       "      <td>253.54700</td>\n",
       "      <td>230.01340</td>\n",
       "      <td>253.15490</td>\n",
       "      <td>242.17120</td>\n",
       "    </tr>\n",
       "    <tr>\n",
       "      <th>1</th>\n",
       "      <td>pic00011.jpg</td>\n",
       "      <td>146.44480</td>\n",
       "      <td>49.57317</td>\n",
       "      <td>165.6670</td>\n",
       "      <td>51.85378</td>\n",
       "      <td>151.98340</td>\n",
       "      <td>68.95834</td>\n",
       "      <td>151.49470</td>\n",
       "      <td>75.96307</td>\n",
       "    </tr>\n",
       "    <tr>\n",
       "      <th>2</th>\n",
       "      <td>pic00021.jpg</td>\n",
       "      <td>279.64210</td>\n",
       "      <td>215.84990</td>\n",
       "      <td>307.9803</td>\n",
       "      <td>215.84990</td>\n",
       "      <td>291.11230</td>\n",
       "      <td>237.44100</td>\n",
       "      <td>292.12440</td>\n",
       "      <td>248.91120</td>\n",
       "    </tr>\n",
       "    <tr>\n",
       "      <th>3</th>\n",
       "      <td>pic00051.jpg</td>\n",
       "      <td>97.88784</td>\n",
       "      <td>79.52948</td>\n",
       "      <td>118.9509</td>\n",
       "      <td>77.12228</td>\n",
       "      <td>111.12750</td>\n",
       "      <td>93.17030</td>\n",
       "      <td>110.32510</td>\n",
       "      <td>101.39490</td>\n",
       "    </tr>\n",
       "    <tr>\n",
       "      <th>4</th>\n",
       "      <td>pic00061.jpg</td>\n",
       "      <td>88.84269</td>\n",
       "      <td>23.70588</td>\n",
       "      <td>102.2709</td>\n",
       "      <td>27.00403</td>\n",
       "      <td>94.73226</td>\n",
       "      <td>32.77581</td>\n",
       "      <td>93.43655</td>\n",
       "      <td>39.13654</td>\n",
       "    </tr>\n",
       "  </tbody>\n",
       "</table>\n",
       "</div>"
      ],
      "text/plain": [
       "     image-name     Leye-x     Leye-y    Reye-x     Reye-y     nose-x  \\\n",
       "0  pic00001.jpg  237.85950  200.99140  273.1565  205.30550  253.54700   \n",
       "1  pic00011.jpg  146.44480   49.57317  165.6670   51.85378  151.98340   \n",
       "2  pic00021.jpg  279.64210  215.84990  307.9803  215.84990  291.11230   \n",
       "3  pic00051.jpg   97.88784   79.52948  118.9509   77.12228  111.12750   \n",
       "4  pic00061.jpg   88.84269   23.70588  102.2709   27.00403   94.73226   \n",
       "\n",
       "      nose-y    mouth-x    mouth-y  \n",
       "0  230.01340  253.15490  242.17120  \n",
       "1   68.95834  151.49470   75.96307  \n",
       "2  237.44100  292.12440  248.91120  \n",
       "3   93.17030  110.32510  101.39490  \n",
       "4   32.77581   93.43655   39.13654  "
      ]
     },
     "execution_count": 19,
     "metadata": {},
     "output_type": "execute_result"
    }
   ],
   "source": [
    "labels.head()"
   ]
  },
  {
   "cell_type": "code",
   "execution_count": 4,
   "metadata": {
    "collapsed": true
   },
   "outputs": [],
   "source": [
    "labels['image-name'] = labels['image-name'].apply(lambda x: int(x.split('.')[0][-5:]))"
   ]
  },
  {
   "cell_type": "code",
   "execution_count": 5,
   "metadata": {},
   "outputs": [
    {
     "data": {
      "text/html": [
       "<div>\n",
       "<style>\n",
       "    .dataframe thead tr:only-child th {\n",
       "        text-align: right;\n",
       "    }\n",
       "\n",
       "    .dataframe thead th {\n",
       "        text-align: left;\n",
       "    }\n",
       "\n",
       "    .dataframe tbody tr th {\n",
       "        vertical-align: top;\n",
       "    }\n",
       "</style>\n",
       "<table border=\"1\" class=\"dataframe\">\n",
       "  <thead>\n",
       "    <tr style=\"text-align: right;\">\n",
       "      <th></th>\n",
       "      <th>image-name</th>\n",
       "      <th>Leye-x</th>\n",
       "      <th>Leye-y</th>\n",
       "      <th>Reye-x</th>\n",
       "      <th>Reye-y</th>\n",
       "      <th>nose-x</th>\n",
       "      <th>nose-y</th>\n",
       "      <th>mouth-x</th>\n",
       "      <th>mouth-y</th>\n",
       "    </tr>\n",
       "  </thead>\n",
       "  <tbody>\n",
       "    <tr>\n",
       "      <th>0</th>\n",
       "      <td>1</td>\n",
       "      <td>237.85950</td>\n",
       "      <td>200.99140</td>\n",
       "      <td>273.15650</td>\n",
       "      <td>205.30550</td>\n",
       "      <td>253.54700</td>\n",
       "      <td>230.01340</td>\n",
       "      <td>253.15490</td>\n",
       "      <td>242.17120</td>\n",
       "    </tr>\n",
       "    <tr>\n",
       "      <th>1175</th>\n",
       "      <td>2</td>\n",
       "      <td>32.10860</td>\n",
       "      <td>146.90860</td>\n",
       "      <td>48.68614</td>\n",
       "      <td>146.06570</td>\n",
       "      <td>40.25688</td>\n",
       "      <td>158.00710</td>\n",
       "      <td>40.81883</td>\n",
       "      <td>165.59350</td>\n",
       "    </tr>\n",
       "    <tr>\n",
       "      <th>4288</th>\n",
       "      <td>5</td>\n",
       "      <td>60.78510</td>\n",
       "      <td>92.15641</td>\n",
       "      <td>105.52110</td>\n",
       "      <td>87.24036</td>\n",
       "      <td>85.36531</td>\n",
       "      <td>120.17780</td>\n",
       "      <td>86.34852</td>\n",
       "      <td>132.95960</td>\n",
       "    </tr>\n",
       "    <tr>\n",
       "      <th>5264</th>\n",
       "      <td>6</td>\n",
       "      <td>88.73007</td>\n",
       "      <td>46.43721</td>\n",
       "      <td>103.27300</td>\n",
       "      <td>50.20760</td>\n",
       "      <td>92.23115</td>\n",
       "      <td>61.78809</td>\n",
       "      <td>90.61527</td>\n",
       "      <td>65.28917</td>\n",
       "    </tr>\n",
       "    <tr>\n",
       "      <th>6069</th>\n",
       "      <td>7</td>\n",
       "      <td>87.63854</td>\n",
       "      <td>89.39703</td>\n",
       "      <td>131.84340</td>\n",
       "      <td>92.98121</td>\n",
       "      <td>111.53310</td>\n",
       "      <td>123.64590</td>\n",
       "      <td>109.54190</td>\n",
       "      <td>140.77030</td>\n",
       "    </tr>\n",
       "  </tbody>\n",
       "</table>\n",
       "</div>"
      ],
      "text/plain": [
       "      image-name     Leye-x     Leye-y     Reye-x     Reye-y     nose-x  \\\n",
       "0              1  237.85950  200.99140  273.15650  205.30550  253.54700   \n",
       "1175           2   32.10860  146.90860   48.68614  146.06570   40.25688   \n",
       "4288           5   60.78510   92.15641  105.52110   87.24036   85.36531   \n",
       "5264           6   88.73007   46.43721  103.27300   50.20760   92.23115   \n",
       "6069           7   87.63854   89.39703  131.84340   92.98121  111.53310   \n",
       "\n",
       "         nose-y    mouth-x    mouth-y  \n",
       "0     230.01340  253.15490  242.17120  \n",
       "1175  158.00710   40.81883  165.59350  \n",
       "4288  120.17780   86.34852  132.95960  \n",
       "5264   61.78809   90.61527   65.28917  \n",
       "6069  123.64590  109.54190  140.77030  "
      ]
     },
     "execution_count": 5,
     "metadata": {},
     "output_type": "execute_result"
    }
   ],
   "source": [
    "labels = labels.sort_values(by = 'image-name')\n",
    "labels.head()"
   ]
  },
  {
   "cell_type": "code",
   "execution_count": 6,
   "metadata": {},
   "outputs": [
    {
     "name": "stdout",
     "output_type": "stream",
     "text": [
      "5753\n"
     ]
    }
   ],
   "source": [
    "temp = labels.groupby('image-name').count().sort_values('Leye-x')\n",
    "one_face_pic = temp[temp['Leye-x']==1].index\n",
    "print(len(one_face_pic))"
   ]
  },
  {
   "cell_type": "code",
   "execution_count": 7,
   "metadata": {
    "collapsed": true
   },
   "outputs": [],
   "source": [
    "import tarfile\n",
    "from scipy import misc\n",
    "import numpy as np"
   ]
  },
  {
   "cell_type": "code",
   "execution_count": 8,
   "metadata": {},
   "outputs": [
    {
     "data": {
      "text/plain": [
       "7092"
      ]
     },
     "execution_count": 8,
     "metadata": {},
     "output_type": "execute_result"
    }
   ],
   "source": [
    "tar = tarfile.open(\"Caltech_WebFaces.tar\")\n",
    "len(tar.getmembers())"
   ]
  },
  {
   "cell_type": "code",
   "execution_count": 81,
   "metadata": {
    "collapsed": true
   },
   "outputs": [],
   "source": [
    "pixel = 100"
   ]
  },
  {
   "cell_type": "code",
   "execution_count": 10,
   "metadata": {
    "collapsed": true
   },
   "outputs": [],
   "source": [
    "content_temp =[]\n",
    "for member in tar.getmembers():\n",
    "    f=tar.extractfile(member)\n",
    "    pic = misc.imread(f)\n",
    "    content_temp.append(pic)"
   ]
  },
  {
   "cell_type": "code",
   "execution_count": 82,
   "metadata": {
    "collapsed": true
   },
   "outputs": [],
   "source": [
    "content =[]\n",
    "for member in tar.getmembers():\n",
    "    f=tar.extractfile(member)\n",
    "    pic = misc.imresize(misc.imread(f),(pixel,pixel,3))\n",
    "    content.append(pic)"
   ]
  },
  {
   "cell_type": "code",
   "execution_count": 83,
   "metadata": {
    "collapsed": true
   },
   "outputs": [],
   "source": [
    "filter_set = [content[i].shape ==(pixel,pixel,3) for i in range(len(content))]"
   ]
  },
  {
   "cell_type": "code",
   "execution_count": 84,
   "metadata": {
    "collapsed": true
   },
   "outputs": [],
   "source": [
    "X_input_index = list(map(lambda x:int(str(x).split('.')[0][-5:]), pd.DataFrame(tar.getmembers()).values[filter_set]))\n",
    "X_input_name = [i for i in X_input_index if i in one_face_pic]\n",
    "X_input_index = [i in one_face_pic for i in X_input_index]"
   ]
  },
  {
   "cell_type": "code",
   "execution_count": 85,
   "metadata": {
    "collapsed": true
   },
   "outputs": [],
   "source": [
    "content_ = [c for c,f in zip(content, filter_set) if f == True]\n",
    "content_ = [c for c,f in zip(content_, X_input_index) if f == True]\n",
    "content_temp_ = [c for c,f in zip(content_temp, filter_set) if f == True]\n",
    "content_temp_ = [c for c,f in zip(content_temp_, X_input_index) if f == True]"
   ]
  },
  {
   "cell_type": "code",
   "execution_count": 86,
   "metadata": {},
   "outputs": [
    {
     "data": {
      "image/png": "[encoded data removed]",
      "text/plain": [
       "<matplotlib.figure.Figure at 0x8b888587b8>"
      ]
     },
     "metadata": {},
     "output_type": "display_data"
    }
   ],
   "source": [
    "index = 90\n",
    "plt.imshow(content_[index], cmap='gray')\n",
    "plt.show()"
   ]
  },
  {
   "cell_type": "code",
   "execution_count": 25,
   "metadata": {},
   "outputs": [
    {
     "name": "stdout",
     "output_type": "stream",
     "text": [
      "a height of 200 pixels and a width of 150 pixels. \n",
      "It’s stored as a 3D numpy array. \n",
      "The 3rd number indicates that this is an RGB image.\n"
     ]
    }
   ],
   "source": [
    "print('a height of %s pixels and a width of %s pixels. \\nIt’s stored as a 3D numpy array. \\n\\\n",
    "The 3rd number indicates that this is an RGB image.' % (content_temp[index].shape[0],content_temp[index].shape[1]))"
   ]
  },
  {
   "cell_type": "code",
   "execution_count": 26,
   "metadata": {},
   "outputs": [
    {
     "name": "stdout",
     "output_type": "stream",
     "text": [
      "The intensity of red is 255, green is 246 and blue is 247 for the first pixel!\n"
     ]
    }
   ],
   "source": [
    "print('The intensity of red is %s, green is %s and \\\n",
    "blue is %s for the first pixel!'% (content[index][0][0][0],content[index][0][0][1],content[index][0][0][2]))"
   ]
  },
  {
   "cell_type": "code",
   "execution_count": 87,
   "metadata": {
    "collapsed": true
   },
   "outputs": [],
   "source": [
    "X_input = np.concatenate([arr[np.newaxis] for arr in content_])\n",
    "X_flatten = X_input.reshape(X_input.shape[0], -1)"
   ]
  },
  {
   "cell_type": "code",
   "execution_count": 89,
   "metadata": {},
   "outputs": [
    {
     "data": {
      "text/plain": [
       "(4939, 30000)"
      ]
     },
     "execution_count": 89,
     "metadata": {},
     "output_type": "execute_result"
    }
   ],
   "source": [
    "X_flatten.shape"
   ]
  },
  {
   "cell_type": "code",
   "execution_count": 90,
   "metadata": {},
   "outputs": [
    {
     "data": {
      "image/png": "[encoded data removed]",
      "text/plain": [
       "<matplotlib.figure.Figure at 0x8b889d67f0>"
      ]
     },
     "metadata": {},
     "output_type": "display_data"
    }
   ],
   "source": [
    "index = 11\n",
    "plt.imshow(content[index], cmap='gray')\n",
    "plt.scatter(labels.iloc[index,1]*pixel/content_temp[index].shape[1], labels.iloc[index,2]*pixel/content_temp[index].shape[0],c = 'r',s = 15)\n",
    "plt.scatter(labels.iloc[index,3]*pixel/content_temp[index].shape[1], labels.iloc[index,4]*pixel/content_temp[index].shape[0],c = 'b',s = 15)\n",
    "plt.scatter(labels.iloc[index,5]*pixel/content_temp[index].shape[1], labels.iloc[index,6]*pixel/content_temp[index].shape[0],c = 'b',s = 15)\n",
    "plt.scatter(labels.iloc[index,7]*pixel/content_temp[index].shape[1], labels.iloc[index,8]*pixel/content_temp[index].shape[0],c = 'g',s = 15)\n",
    "\n",
    "plt.show()"
   ]
  },
  {
   "cell_type": "code",
   "execution_count": 91,
   "metadata": {
    "collapsed": true
   },
   "outputs": [],
   "source": [
    "ratio = []\n",
    "for item in list(map(lambda x:x[:2],[content_temp_[i].shape for i in range(len(content_temp_))])):\n",
    "    ratio.append(tuple([pixel/x for x in item]))"
   ]
  },
  {
   "cell_type": "code",
   "execution_count": 93,
   "metadata": {
    "collapsed": true
   },
   "outputs": [],
   "source": [
    "x_ratio = list(map(lambda x:x[1],ratio))\n",
    "y_ratio = list(map(lambda x:x[0],ratio))"
   ]
  },
  {
   "cell_type": "code",
   "execution_count": 94,
   "metadata": {},
   "outputs": [],
   "source": [
    "label_merge = pd.DataFrame({'image-name':X_input_name,'x_ratio':x_ratio,'y_ratio':y_ratio}).join(labels,lsuffix='_')"
   ]
  },
  {
   "cell_type": "code",
   "execution_count": 95,
   "metadata": {
    "collapsed": true
   },
   "outputs": [],
   "source": [
    "Y_df = pd.concat([label_merge.filter(regex='-x').multiply(x_ratio,axis = 0),label_merge.filter(regex='-y').multiply(y_ratio,axis = 0)],axis = 1)"
   ]
  },
  {
   "cell_type": "code",
   "execution_count": 96,
   "metadata": {},
   "outputs": [
    {
     "data": {
      "text/plain": [
       "(4939, 8)"
      ]
     },
     "execution_count": 96,
     "metadata": {},
     "output_type": "execute_result"
    }
   ],
   "source": [
    "Y_df.shape"
   ]
  },
  {
   "cell_type": "code",
   "execution_count": 97,
   "metadata": {},
   "outputs": [
    {
     "data": {
      "text/plain": [
       "(4939, 30000)"
      ]
     },
     "execution_count": 97,
     "metadata": {},
     "output_type": "execute_result"
    }
   ],
   "source": [
    "X_flatten.shape"
   ]
  },
  {
   "cell_type": "code",
   "execution_count": 102,
   "metadata": {},
   "outputs": [],
   "source": [
    "X_train = X_flatten[:100,:]/255\n",
    "Y_train = Y_df.values[:100,:]"
   ]
  },
  {
   "cell_type": "code",
   "execution_count": 103,
   "metadata": {},
   "outputs": [
    {
     "data": {
      "text/plain": [
       "<matplotlib.collections.PathCollection at 0x8b888d57b8>"
      ]
     },
     "execution_count": 103,
     "metadata": {},
     "output_type": "execute_result"
    },
    {
     "data": {
      "image/png": "[encoded data removed]",
      "text/plain": [
       "<matplotlib.figure.Figure at 0x8b888d5438>"
      ]
     },
     "metadata": {},
     "output_type": "display_data"
    }
   ],
   "source": [
    "plt.imshow(X_input[0], cmap='gray')\n",
    "plt.scatter(Y_train[0][0], Y_train[0][4],c = 'r',s = 15)"
   ]
  },
  {
   "cell_type": "code",
   "execution_count": 104,
   "metadata": {
    "collapsed": true
   },
   "outputs": [],
   "source": [
    "import pickle\n",
    "with open('X_train.pickle', 'wb') as handle:\n",
    "    pickle.dump(X_train, handle, protocol=pickle.HIGHEST_PROTOCOL)\n",
    "with open('Y_train.pickle', 'wb') as handle:\n",
    "    pickle.dump(Y_train, handle, protocol=pickle.HIGHEST_PROTOCOL)"
   ]
  },
  {
   "cell_type": "code",
   "execution_count": null,
   "metadata": {
    "collapsed": true
   },
   "outputs": [],
   "source": []
  },
  {
   "cell_type": "code",
   "execution_count": 2,
   "metadata": {
    "collapsed": true
   },
   "outputs": [],
   "source": [
    "import pickle\n",
    "with open('X_train.pickle', 'rb') as handle:\n",
    "    X_train = pickle.load(handle)\n",
    "with open('Y_train.pickle', 'rb') as handle:\n",
    "    Y_train = pickle.load(handle)"
   ]
  },
  {
   "cell_type": "code",
   "execution_count": 59,
   "metadata": {},
   "outputs": [],
   "source": [
    "from keras.models import Sequential\n",
    "from keras.layers import Dense,Dropout\n",
    "from keras.wrappers.scikit_learn import KerasRegressor\n",
    "from sklearn.model_selection import cross_val_score\n",
    "from sklearn.model_selection import KFold\n",
    "from sklearn.preprocessing import StandardScaler\n",
    "from sklearn.pipeline import Pipeline\n",
    "from keras.regularizers import l2"
   ]
  },
  {
   "cell_type": "code",
   "execution_count": 105,
   "metadata": {
    "collapsed": true
   },
   "outputs": [],
   "source": [
    "# define base model\n",
    "def baseline_model():\n",
    "    model = Sequential()\n",
    "    #model.add(Dense(131072, input_dim=270000, kernel_initializer='he_normal', activation='relu'))\n",
    "    model.add(Dense(32768, input_dim=30000,kernel_initializer='he_normal', activation='relu', W_regularizer=l2(0.01)))\n",
    "    model.add(Dense(16384, kernel_initializer='he_normal', activation='relu',W_regularizer=l2(0.01)))\n",
    "    model.add(Dense(4096, kernel_initializer='he_normal', activation='relu',W_regularizer=l2(0.01)))\n",
    "    model.add(Dense(2048, kernel_initializer='he_normal', activation='relu',W_regularizer=l2(0.01)))\n",
    "    model.add(Dense(512, kernel_initializer='he_normal', activation='relu',W_regularizer=l2(0.01)))\n",
    "    model.add(Dense(256, kernel_initializer='he_normal', activation='relu',W_regularizer=l2(0.01)))\n",
    "    model.add(Dense(64, kernel_initializer='he_normal', activation='relu',W_regularizer=l2(0.01)))\n",
    "    model.add(Dense(8, kernel_initializer='he_normal'))\n",
    "    model.compile(loss='mean_absolute_error', optimizer='adam')\n",
    "    return model"
   ]
  },
  {
   "cell_type": "code",
   "execution_count": null,
   "metadata": {},
   "outputs": [
    {
     "name": "stderr",
     "output_type": "stream",
     "text": [
      "C:\\Users\\Miya\\Anaconda3\\lib\\site-packages\\ipykernel_launcher.py:5: UserWarning: Update your `Dense` call to the Keras 2 API: `Dense(32768, input_dim=30000, kernel_initializer=\"he_normal\", activation=\"relu\", kernel_regularizer=<keras.reg...)`\n",
      "  \"\"\"\n",
      "C:\\Users\\Miya\\Anaconda3\\lib\\site-packages\\ipykernel_launcher.py:6: UserWarning: Update your `Dense` call to the Keras 2 API: `Dense(16384, kernel_initializer=\"he_normal\", activation=\"relu\", kernel_regularizer=<keras.reg...)`\n",
      "  \n",
      "C:\\Users\\Miya\\Anaconda3\\lib\\site-packages\\ipykernel_launcher.py:7: UserWarning: Update your `Dense` call to the Keras 2 API: `Dense(4096, kernel_initializer=\"he_normal\", activation=\"relu\", kernel_regularizer=<keras.reg...)`\n",
      "  import sys\n",
      "C:\\Users\\Miya\\Anaconda3\\lib\\site-packages\\ipykernel_launcher.py:8: UserWarning: Update your `Dense` call to the Keras 2 API: `Dense(2048, kernel_initializer=\"he_normal\", activation=\"relu\", kernel_regularizer=<keras.reg...)`\n",
      "  \n",
      "C:\\Users\\Miya\\Anaconda3\\lib\\site-packages\\ipykernel_launcher.py:9: UserWarning: Update your `Dense` call to the Keras 2 API: `Dense(512, kernel_initializer=\"he_normal\", activation=\"relu\", kernel_regularizer=<keras.reg...)`\n",
      "  if __name__ == '__main__':\n",
      "C:\\Users\\Miya\\Anaconda3\\lib\\site-packages\\ipykernel_launcher.py:10: UserWarning: Update your `Dense` call to the Keras 2 API: `Dense(256, kernel_initializer=\"he_normal\", activation=\"relu\", kernel_regularizer=<keras.reg...)`\n",
      "  # Remove the CWD from sys.path while we load stuff.\n",
      "C:\\Users\\Miya\\Anaconda3\\lib\\site-packages\\ipykernel_launcher.py:11: UserWarning: Update your `Dense` call to the Keras 2 API: `Dense(64, kernel_initializer=\"he_normal\", activation=\"relu\", kernel_regularizer=<keras.reg...)`\n",
      "  # This is added back by InteractiveShellApp.init_path()\n"
     ]
    },
    {
     "name": "stdout",
     "output_type": "stream",
     "text": [
      "Train on 80 samples, validate on 20 samples\n",
      "Epoch 1/5\n"
     ]
    }
   ],
   "source": [
    "model = baseline_model()\n",
    "model.fit(X_train, Y_train, batch_size=16, epochs=5, validation_split=0.2, verbose=2)"
   ]
  },
  {
   "cell_type": "code",
   "execution_count": 73,
   "metadata": {
    "collapsed": true
   },
   "outputs": [],
   "source": [
    "def pic_process(filename,pixel):\n",
    "    ori_image = misc.imread(filename)\n",
    "    image = misc.imresize(ori_image,(pixel,pixel,3))\n",
    "    test_file = image.reshape(pixel*pixel*3,1).T\n",
    "    test_file = test_file/255 #normalize\n",
    "    \n",
    "    return test_file,image\n",
    "test_file,image = pic_process('1801757054.jpg',pixel=pixel)"
   ]
  },
  {
   "cell_type": "code",
   "execution_count": null,
   "metadata": {
    "collapsed": true
   },
   "outputs": [],
   "source": [
    "pred = model.predict(test_file)"
   ]
  },
  {
   "cell_type": "code",
   "execution_count": null,
   "metadata": {},
   "outputs": [],
   "source": [
    "plt.imshow(image, cmap='gray')\n",
    "plt.scatter(pred[0][0], pred[0][4],c = 'r',s = 15)\n",
    "plt.scatter(pred[0][1], pred[0][5],c = 'r',s = 15)\n",
    "plt.scatter(pred[0][2], pred[0][6],c = 'g',s = 15)\n",
    "plt.scatter(pred[0][3], pred[0][7],c = 'b',s = 15)\n",
    "plt.show()"
   ]
  },
  {
   "cell_type": "code",
   "execution_count": null,
   "metadata": {
    "collapsed": true
   },
   "outputs": [],
   "source": []
  }
 ],
 "metadata": {
  "kernelspec": {
   "display_name": "Python 3",
   "language": "python",
   "name": "python3"
  },
  "language_info": {
   "codemirror_mode": {
    "name": "ipython",
    "version": 3
   },
   "file_extension": ".py",
   "mimetype": "text/x-python",
   "name": "python",
   "nbconvert_exporter": "python",
   "pygments_lexer": "ipython3",
   "version": "3.6.1"
  }
 },
 "nbformat": 4,
 "nbformat_minor": 2
}
